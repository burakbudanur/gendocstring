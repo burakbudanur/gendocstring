{
  "nbformat": 4,
  "nbformat_minor": 0,
  "metadata": {
    "colab": {
      "provenance": [],
      "gpuType": "T4",
      "authorship_tag": "ABX9TyO60vS8uc1ygupcwsdurAl8",
      "include_colab_link": true
    },
    "kernelspec": {
      "name": "python3",
      "display_name": "Python 3"
    },
    "language_info": {
      "name": "python"
    },
    "accelerator": "GPU"
  },
  "cells": [
    {
      "cell_type": "markdown",
      "metadata": {
        "id": "view-in-github",
        "colab_type": "text"
      },
      "source": [
        "<a href=\"https://colab.research.google.com/github/burakbudanur/llmdocstring/blob/master/server/gendocstring.ipynb\" target=\"_parent\"><img src=\"https://colab.research.google.com/assets/colab-badge.svg\" alt=\"Open In Colab\"/></a>"
      ]
    },
    {
      "cell_type": "code",
      "execution_count": 1,
      "metadata": {
        "colab": {
          "base_uri": "https://localhost:8080/"
        },
        "id": "P5GAZLR_KrT7",
        "outputId": "013c64b5-e75a-4d2c-9737-df2763946c0a"
      },
      "outputs": [
        {
          "output_type": "stream",
          "name": "stdout",
          "text": [
            "Requirement already satisfied: flask in /usr/local/lib/python3.10/dist-packages (2.2.5)\n",
            "Requirement already satisfied: pyngrok in /usr/local/lib/python3.10/dist-packages (7.0.3)\n",
            "Requirement already satisfied: huggingface_hub in /usr/local/lib/python3.10/dist-packages (0.19.4)\n",
            "Requirement already satisfied: Werkzeug>=2.2.2 in /usr/local/lib/python3.10/dist-packages (from flask) (3.0.1)\n",
            "Requirement already satisfied: Jinja2>=3.0 in /usr/local/lib/python3.10/dist-packages (from flask) (3.1.2)\n",
            "Requirement already satisfied: itsdangerous>=2.0 in /usr/local/lib/python3.10/dist-packages (from flask) (2.1.2)\n",
            "Requirement already satisfied: click>=8.0 in /usr/local/lib/python3.10/dist-packages (from flask) (8.1.7)\n",
            "Requirement already satisfied: PyYAML in /usr/local/lib/python3.10/dist-packages (from pyngrok) (6.0.1)\n",
            "Requirement already satisfied: filelock in /usr/local/lib/python3.10/dist-packages (from huggingface_hub) (3.13.1)\n",
            "Requirement already satisfied: fsspec>=2023.5.0 in /usr/local/lib/python3.10/dist-packages (from huggingface_hub) (2023.6.0)\n",
            "Requirement already satisfied: requests in /usr/local/lib/python3.10/dist-packages (from huggingface_hub) (2.31.0)\n",
            "Requirement already satisfied: tqdm>=4.42.1 in /usr/local/lib/python3.10/dist-packages (from huggingface_hub) (4.66.1)\n",
            "Requirement already satisfied: typing-extensions>=3.7.4.3 in /usr/local/lib/python3.10/dist-packages (from huggingface_hub) (4.5.0)\n",
            "Requirement already satisfied: packaging>=20.9 in /usr/local/lib/python3.10/dist-packages (from huggingface_hub) (23.2)\n",
            "Requirement already satisfied: MarkupSafe>=2.0 in /usr/local/lib/python3.10/dist-packages (from Jinja2>=3.0->flask) (2.1.3)\n",
            "Requirement already satisfied: charset-normalizer<4,>=2 in /usr/local/lib/python3.10/dist-packages (from requests->huggingface_hub) (3.3.2)\n",
            "Requirement already satisfied: idna<4,>=2.5 in /usr/local/lib/python3.10/dist-packages (from requests->huggingface_hub) (3.6)\n",
            "Requirement already satisfied: urllib3<3,>=1.21.1 in /usr/local/lib/python3.10/dist-packages (from requests->huggingface_hub) (2.0.7)\n",
            "Requirement already satisfied: certifi>=2017.4.17 in /usr/local/lib/python3.10/dist-packages (from requests->huggingface_hub) (2023.11.17)\n"
          ]
        }
      ],
      "source": [
        "!pip install flask pyngrok huggingface_hub"
      ]
    },
    {
      "cell_type": "code",
      "source": [
        "# uncomment and run with your own authtoken\n",
        "# !ngrok config add-authtoken <authtoken>"
      ],
      "metadata": {
        "id": "9uCa_khR2PDD"
      },
      "execution_count": 2,
      "outputs": []
    },
    {
      "cell_type": "code",
      "source": [
        "!CMAKE_ARGS=\"-DLLAMA_CUBLAS=on\" FORCE_CMAKE=1 pip install llama-cpp-python # gpu available\n",
        "# !CMAKE_ARGS=\"-DLLAMA_BLAS=ON -DLLAMA_BLAS_VENDOR=OpenBLAS\" pip install llama-cpp-python # cpu only"
      ],
      "metadata": {
        "colab": {
          "base_uri": "https://localhost:8080/"
        },
        "id": "EaY7Ki9_fKHE",
        "outputId": "54c91623-f2e5-4262-cef0-46cc2da5d802"
      },
      "execution_count": 3,
      "outputs": [
        {
          "output_type": "stream",
          "name": "stdout",
          "text": [
            "Requirement already satisfied: llama-cpp-python in /usr/local/lib/python3.10/dist-packages (0.2.25)\n",
            "Requirement already satisfied: typing-extensions>=4.5.0 in /usr/local/lib/python3.10/dist-packages (from llama-cpp-python) (4.5.0)\n",
            "Requirement already satisfied: numpy>=1.20.0 in /usr/local/lib/python3.10/dist-packages (from llama-cpp-python) (1.23.5)\n",
            "Requirement already satisfied: diskcache>=5.6.1 in /usr/local/lib/python3.10/dist-packages (from llama-cpp-python) (5.6.3)\n"
          ]
        }
      ]
    },
    {
      "cell_type": "code",
      "source": [
        "import os\n",
        "import threading\n",
        "from datetime import datetime\n",
        "from flask import Flask, jsonify, request\n",
        "from pyngrok import ngrok\n",
        "import time\n",
        "import json\n",
        "from pathlib import Path\n",
        "from huggingface_hub import hf_hub_download\n",
        "from llama_cpp import Llama\n",
        "import multiprocessing\n",
        "import re\n",
        "\n",
        "num_cpu = multiprocessing.cpu_count()\n",
        "print(num_cpu)"
      ],
      "metadata": {
        "id": "3Tc0_t4SKtja",
        "colab": {
          "base_uri": "https://localhost:8080/"
        },
        "outputId": "e09bffd8-f96f-4fdf-841f-7a70b2d51bd3"
      },
      "execution_count": 4,
      "outputs": [
        {
          "output_type": "stream",
          "name": "stdout",
          "text": [
            "2\n"
          ]
        }
      ]
    },
    {
      "cell_type": "code",
      "source": [
        "def log(string):\n",
        "\n",
        "    # datetime object containing current date and time\n",
        "    now = datetime.now()\n",
        "\n",
        "    print(\"now =\", now)\n",
        "    dt_string = now.strftime(\"%d/%m/%Y %H:%M:%S\")\n",
        "\n",
        "    f = open(\"ngrokweb.log\", \"a\")\n",
        "    f.write(dt_string + '\\n')\n",
        "    f.close()\n",
        "\n",
        "    with open(\"ngrokweb.log\",\"a\") as f:\n",
        "        f.writelines(string)"
      ],
      "metadata": {
        "id": "F4lnKo-4K507"
      },
      "execution_count": 5,
      "outputs": []
    },
    {
      "cell_type": "code",
      "source": [
        "def download_weights():\n",
        "\n",
        "    weights_dir = Path(\"weights\")\n",
        "    weights_dir.mkdir(exist_ok=True)\n",
        "\n",
        "    repo_id = \"TheBloke/Mistral-7B-Instruct-v0.1-GGUF\"\n",
        "    filename = \"mistral-7b-instruct-v0.1.Q6_K.gguf\"\n",
        "\n",
        "    if (weights_dir / Path(filename)).exists():\n",
        "        print(\n",
        "            f\"{filename} exists. Delete manually if you wish to download again.\"\n",
        "            )\n",
        "        return\n",
        "    else:\n",
        "        return hf_hub_download(\n",
        "            repo_id = repo_id, filename=filename, local_dir='./weights/',\n",
        "            local_dir_use_symlinks = False\n",
        "            )\n",
        "\n",
        "download_weights()"
      ],
      "metadata": {
        "colab": {
          "base_uri": "https://localhost:8080/"
        },
        "id": "ODZ5W4fzK6Vu",
        "outputId": "a3ae6107-a09d-4a80-a9c3-11a289aa9456"
      },
      "execution_count": 6,
      "outputs": [
        {
          "output_type": "stream",
          "name": "stdout",
          "text": [
            "mistral-7b-instruct-v0.1.Q6_K.gguf exists. Delete manually if you wish to download again.\n"
          ]
        }
      ]
    },
    {
      "cell_type": "code",
      "source": [
        "model = \"weights/mistral-7b-instruct-v0.1.Q6_K.gguf\"  # instruction model\n",
        "llm = Llama(\n",
        "    model_path=model, n_ctx=8192, n_batch=128, n_threads=num_cpu,\n",
        "    n_gpu_layers=-1, verbose=True, seed=42\n",
        "    )"
      ],
      "metadata": {
        "colab": {
          "base_uri": "https://localhost:8080/"
        },
        "id": "xxZ7b1qLThNE",
        "outputId": "74c171f7-438c-4543-f490-3e6cfd0a59f1"
      },
      "execution_count": 7,
      "outputs": [
        {
          "output_type": "stream",
          "name": "stderr",
          "text": [
            "AVX = 1 | AVX2 = 1 | AVX512 = 0 | AVX512_VBMI = 0 | AVX512_VNNI = 0 | FMA = 1 | NEON = 0 | ARM_FMA = 0 | F16C = 1 | FP16_VA = 0 | WASM_SIMD = 0 | BLAS = 1 | SSE3 = 1 | SSSE3 = 1 | VSX = 0 | \n"
          ]
        }
      ]
    },
    {
      "cell_type": "code",
      "source": [
        "def get_docstring_from_template(code, template):\n",
        "\n",
        "    instruction = \"According to the template, produce a docstring for the \"\n",
        "    instruction += \"following python function.\"\n",
        "    instruction += \"Return the full function definition with the docstring.\"\n",
        "\n",
        "    message = f\"Docstring template: \\n {template} \\n <s>[INST] {instruction} [/INST]</s> \\n {code}\"\n",
        "    output = llm(message, echo=True, stream=False, max_tokens=4096)\n",
        "    text = output['choices'][0]['text']\n",
        "    print(text)\n",
        "    docstring_pattern = re.compile(r'\\'\\'\\'(.*?)\\'\\'\\'|\\\"\\\"\\\"(.*?)\\\"\\\"\\\"', re.DOTALL)\n",
        "    match = docstring_pattern.search(text)\n",
        "\n",
        "    return match.groups()[1] if match else \"Docstring generation failed, please try again.\""
      ],
      "metadata": {
        "id": "64my6AJNWofD"
      },
      "execution_count": 8,
      "outputs": []
    },
    {
      "cell_type": "code",
      "source": [
        "template = \"\"\"\n",
        "    [Summary of the function fibonacci_of]\n",
        "\n",
        "    Args:\n",
        "        n ([type]): [description]\n",
        "\n",
        "    Returns:\n",
        "        [type]: [description]\n",
        "    \"\"\"\n",
        "\n",
        "code = \"\"\"\n",
        "def fibonacci_of(n):\n",
        "    if n in cache:\n",
        "        return cache[n]\n",
        "    cache[n] = fibonacci_of(n - 1) + fibonacci_of(n - 2)\n",
        "    return cache[n]\n",
        "\"\"\"\n",
        "\n",
        "docstr_template = get_docstring_from_template(code, template)"
      ],
      "metadata": {
        "colab": {
          "base_uri": "https://localhost:8080/"
        },
        "id": "1jZm2tkIrmZQ",
        "outputId": "b0be09a4-534f-466c-b5d3-1188aca1539f"
      },
      "execution_count": 9,
      "outputs": [
        {
          "output_type": "stream",
          "name": "stdout",
          "text": [
            "Docstring template: \n",
            " \n",
            "    [Summary of the function fibonacci_of]\n",
            "\n",
            "    Args:\n",
            "        n ([type]): [description]\n",
            "\n",
            "    Returns:\n",
            "        [type]: [description]\n",
            "     \n",
            " <s>[INST] According to the template, produce a docstring for the following python function.Return the full function definition with the docstring. [/INST]</s> \n",
            " \n",
            "def fibonacci_of(n):\n",
            "    if n in cache:\n",
            "        return cache[n]\n",
            "    cache[n] = fibonacci_of(n - 1) + fibonacci_of(n - 2)\n",
            "    return cache[n]\n",
            "\n",
            "\"\"\"\n",
            "Summary of the function fibonacci_of\n",
            "\n",
            "Args:\n",
            "    n (int): The position for which to return the fibonacci number.\n",
            "\n",
            "Returns:\n",
            "    int: The Nth Fibonacci number, where 0 = 0 and 1 = 1\n",
            "     \n",
            "\"\"\"\n"
          ]
        }
      ]
    },
    {
      "cell_type": "code",
      "source": [
        "print(docstr_template)"
      ],
      "metadata": {
        "colab": {
          "base_uri": "https://localhost:8080/"
        },
        "id": "f8O_QG5PY147",
        "outputId": "c13a7aa1-3fb7-49e3-8a79-08c97fdf5b8b"
      },
      "execution_count": 10,
      "outputs": [
        {
          "output_type": "stream",
          "name": "stdout",
          "text": [
            "\n",
            "Summary of the function fibonacci_of\n",
            "\n",
            "Args:\n",
            "    n (int): The position for which to return the fibonacci number.\n",
            "\n",
            "Returns:\n",
            "    int: The Nth Fibonacci number, where 0 = 0 and 1 = 1\n",
            "     \n",
            "\n"
          ]
        }
      ]
    },
    {
      "cell_type": "code",
      "source": [
        "app = Flask(__name__)\n",
        "port = \"5000\"\n",
        "\n",
        "# Open a ngrok tunnel to the HTTP server\n",
        "public_url = ngrok.connect(port).public_url\n",
        "print(\n",
        "    \" * ngrok tunnel \\\"{}\\\" -> \\\"http://127.0.0.1:{}\\\"\".format(public_url, port)\n",
        "    )\n",
        "\n",
        "# Update any base URLs to use the public ngrok URL\n",
        "app.config[\"BASE_URL\"] = public_url\n",
        "\n",
        "# ... Update inbound traffic via APIs to use the public-facing ngrok URL\n",
        "\n",
        "\n",
        "# Define Flask routes\n",
        "@app.route(\"/\")\n",
        "def index():\n",
        "    return \"Hello from llmdocstring server.\"\n",
        "\n",
        "@app.route(\"/summary\", methods=[\"POST\"])\n",
        "def summary():\n",
        "    if request.method == \"POST\":\n",
        "        payload = request.get_json()\n",
        "        t0 = time.time()\n",
        "\n",
        "        # Generate docstring here\n",
        "\n",
        "        code = payload[\"code\"]\n",
        "        snippet = payload[\"snippet\"]\n",
        "        template = snippet.replace('\\\"\\\"\\\"\\n', '')\n",
        "\n",
        "        log(\"code:\")\n",
        "        log(code)\n",
        "        log(\"snippet:\")\n",
        "        log(snippet)\n",
        "\n",
        "        docstring = get_docstring_from_template(code, template)\n",
        "        if docstring[0:1] == '\\n':\n",
        "            docstring = docstring[1:]\n",
        "        docstring = docstring.rstrip()+'\\n'\n",
        "\n",
        "        log(docstring)\n",
        "\n",
        "        t1 = time.time()\n",
        "        result = {\n",
        "            'message' : [docstring],\n",
        "            'time' : (t1 - t0),\n",
        "            'device' : \"computer\",\n",
        "            'length' : len(docstring)\n",
        "        }\n",
        "\n",
        "        return jsonify(**result)\n",
        "\n",
        "# Start the Flask server in a new thread\n",
        "threading.Thread(target=app.run, kwargs={\"use_reloader\": False}).start()"
      ],
      "metadata": {
        "id": "zN1HflELK8oG",
        "colab": {
          "base_uri": "https://localhost:8080/"
        },
        "outputId": "d4affacf-cc40-43bb-92f0-8e4fe4905d19"
      },
      "execution_count": 11,
      "outputs": [
        {
          "output_type": "stream",
          "name": "stdout",
          "text": [
            " * ngrok tunnel \"https://f8bf-34-105-6-148.ngrok-free.app\" -> \"http://127.0.0.1:5000\"\n"
          ]
        }
      ]
    }
  ]
}