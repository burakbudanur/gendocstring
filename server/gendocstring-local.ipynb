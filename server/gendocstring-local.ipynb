{
  "cells": [
    {
      "cell_type": "code",
      "execution_count": null,
      "metadata": {
        "colab": {
          "base_uri": "https://localhost:8080/"
        },
        "id": "P5GAZLR_KrT7",
        "outputId": "a8cbbdb7-9b97-42a1-e5de-24c173ee9678"
      },
      "outputs": [],
      "source": [
        "# !pip install flask huggingface_hub"
      ]
    },
    {
      "cell_type": "code",
      "execution_count": null,
      "metadata": {
        "colab": {
          "base_uri": "https://localhost:8080/"
        },
        "id": "EaY7Ki9_fKHE",
        "outputId": "b934053a-003f-45c9-bb08-0fd785e3be9f"
      },
      "outputs": [],
      "source": [
        "# Install llama-cpp-python cpu only -- will likely be slow:\n",
        "# !CMAKE_ARGS=\"-DLLAMA_BLAS=ON -DLLAMA_BLAS_VENDOR=OpenBLAS\" pip install llama-cpp-python # cpu only\n",
        "\n",
        "# Install llama-cpp-python with cuda support:\n",
        "# !CMAKE_ARGS=\"-DLLAMA_CUBLAS=on\" FORCE_CMAKE=1 pip install llama-cpp-python # cuda gpu\n",
        "\n",
        "# Install with macOS (Metal) support\n",
        "# !CMAKE_ARGS=\"-DLLAMA_METAL=on\" pip install -U llama-cpp-python --no-cache-dir \n",
        "# !pip install 'llama-cpp-python[server]'"
      ]
    },
    {
      "cell_type": "code",
      "execution_count": null,
      "metadata": {
        "colab": {
          "base_uri": "https://localhost:8080/"
        },
        "id": "3Tc0_t4SKtja",
        "outputId": "61675a3e-e70c-41d2-dd4e-eb39957e00f7"
      },
      "outputs": [],
      "source": [
        "import os\n",
        "import threading\n",
        "from datetime import datetime\n",
        "from flask import Flask, jsonify, request\n",
        "import time\n",
        "import json\n",
        "from pathlib import Path\n",
        "from huggingface_hub import hf_hub_download\n",
        "from llama_cpp import Llama\n",
        "import multiprocessing\n",
        "import re\n",
        "\n",
        "num_cpu = multiprocessing.cpu_count()\n",
        "print(num_cpu)"
      ]
    },
    {
      "cell_type": "code",
      "execution_count": null,
      "metadata": {
        "id": "F4lnKo-4K507"
      },
      "outputs": [],
      "source": [
        "def log(string):\n",
        "\n",
        "    # datetime object containing current date and time\n",
        "    now = datetime.now()\n",
        "\n",
        "    print(\"now =\", now)\n",
        "    dt_string = now.strftime(\"%d/%m/%Y %H:%M:%S\")\n",
        "\n",
        "    f = open(\"gendocstring.log\", \"a\")\n",
        "    f.write(dt_string + '\\n')\n",
        "    f.close()\n",
        "\n",
        "    with open(\"gendocstring.log\",\"a\") as f:\n",
        "        f.writelines(string)"
      ]
    },
    {
      "cell_type": "code",
      "execution_count": null,
      "metadata": {
        "colab": {
          "base_uri": "https://localhost:8080/",
          "height": 67,
          "referenced_widgets": [
            "d1eded299ea34e2086b8a9e8dd12962b",
            "a9b254a5b5bd4a49acb622387d7c303e",
            "5900405f4b494d71a69948b879263a0d",
            "a3058475b61044f990ad7930c18a39d7",
            "28a6c9d7010348c5b8b574b4dacee3f0",
            "a5c883b3a4c542dd892fe5892fa460af",
            "da70b9075bcb44418e91df32acb46219",
            "b764c993b154464380f6f81584e37cd2",
            "2679f0a927dc420eb1509a62077a5264",
            "431e74e1d4b84efd97f1aefa090dfe5b",
            "29e225c6c4c742c799421da82d4f670e"
          ]
        },
        "id": "ODZ5W4fzK6Vu",
        "outputId": "5ce564f2-3c63-46f1-a096-1900700b52e8"
      },
      "outputs": [],
      "source": [
        "def download_weights():\n",
        "\n",
        "    weights_dir = Path(\"weights\")\n",
        "    weights_dir.mkdir(exist_ok=True)\n",
        "\n",
        "    repo_id = \"TheBloke/Mistral-7B-Instruct-v0.1-GGUF\"\n",
        "    filename = \"mistral-7b-instruct-v0.1.Q6_K.gguf\"\n",
        "\n",
        "    if (weights_dir / Path(filename)).exists():\n",
        "        print(\n",
        "            f\"{filename} exists. Delete manually if you wish to download again.\"\n",
        "            )\n",
        "        return\n",
        "    else:\n",
        "        return hf_hub_download(\n",
        "            repo_id = repo_id, filename=filename, local_dir='./weights/',\n",
        "            local_dir_use_symlinks = False\n",
        "            )\n",
        "\n",
        "download_weights()"
      ]
    },
    {
      "cell_type": "code",
      "execution_count": null,
      "metadata": {
        "colab": {
          "base_uri": "https://localhost:8080/"
        },
        "id": "xxZ7b1qLThNE",
        "outputId": "7aa08e11-f714-4c32-bb8f-465fa998239c"
      },
      "outputs": [],
      "source": [
        "model = \"weights/mistral-7b-instruct-v0.1.Q6_K.gguf\"  # instruction model\n",
        "llm = Llama(\n",
        "    model_path=model, n_ctx=8192, n_batch=128, n_threads=num_cpu,\n",
        "    n_gpu_layers=-1, verbose=True, seed=42\n",
        "    )"
      ]
    },
    {
      "cell_type": "code",
      "execution_count": null,
      "metadata": {
        "id": "yqOZniTFkteq"
      },
      "outputs": [],
      "source": [
        "def get_docstring(code):\n",
        "    instruction = \"Produce a docstring for the following python function.\"\n",
        "    instruction += \"Return the full function definition with the docstring.\"\n",
        "\n",
        "    message = f\"<s>[INST] {instruction} [/INST]</s> \\n {code}\"\n",
        "    output = llm(message, echo=True, stream=False, max_tokens=4096)\n",
        "    text = output['choices'][0]['text']\n",
        "    print(text)\n",
        "    docstring_pattern = re.compile(r'\\'\\'\\'(.*?)\\'\\'\\'|\\\"\\\"\\\"(.*?)\\\"\\\"\\\"', re.DOTALL)\n",
        "    match = docstring_pattern.search(text)\n",
        "\n",
        "    return match.groups()[1] if match else None"
      ]
    },
    {
      "cell_type": "code",
      "execution_count": null,
      "metadata": {
        "id": "64my6AJNWofD"
      },
      "outputs": [],
      "source": [
        "def get_docstring_from_template(code, template):\n",
        "\n",
        "    instruction = \"According to the template, produce a docstring for the \"\n",
        "    instruction += \"following python function.\"\n",
        "    instruction += \"Return the full function definition with the docstring.\"\n",
        "\n",
        "    message = f\"Docstring template: \\n {template} \\n <s>[INST] {instruction} [/INST]</s> \\n {code}\"\n",
        "    output = llm(message, echo=True, stream=False, max_tokens=4096)\n",
        "    text = output['choices'][0]['text']\n",
        "    print(text)\n",
        "    docstring_pattern = re.compile(r'\\'\\'\\'(.*?)\\'\\'\\'|\\\"\\\"\\\"(.*?)\\\"\\\"\\\"', re.DOTALL)\n",
        "    match = docstring_pattern.search(text)\n",
        "\n",
        "    return match.groups()[1] if match else None\n",
        "\n",
        "    # return text"
      ]
    },
    {
      "cell_type": "code",
      "execution_count": null,
      "metadata": {
        "colab": {
          "base_uri": "https://localhost:8080/"
        },
        "id": "1jZm2tkIrmZQ",
        "outputId": "5b111a57-5b62-4ada-af01-40b4d58c62d8"
      },
      "outputs": [],
      "source": [
        "template = \"\"\"\n",
        "    [Summary of the function fibonacci_of]\n",
        "\n",
        "    Args:\n",
        "        n ([type]): [description]\n",
        "\n",
        "    Returns:\n",
        "        [type]: [description]\n",
        "    \"\"\"\n",
        "\n",
        "code = \"\"\"\n",
        "def fibonacci_of(n):\n",
        "    if n in cache:\n",
        "        return cache[n]\n",
        "    cache[n] = fibonacci_of(n - 1) + fibonacci_of(n - 2)\n",
        "    return cache[n]\n",
        "\"\"\"\n",
        "\n",
        "# docstr = get_docstring(code)\n",
        "docstr_template = get_docstring_from_template(code, template)"
      ]
    },
    {
      "cell_type": "code",
      "execution_count": null,
      "metadata": {
        "colab": {
          "base_uri": "https://localhost:8080/"
        },
        "id": "f8O_QG5PY147",
        "outputId": "3b30db5f-e835-4d80-8e1a-1e7ce49fbe41"
      },
      "outputs": [],
      "source": [
        "print(docstr_template)"
      ]
    },
    {
      "cell_type": "code",
      "execution_count": null,
      "metadata": {
        "colab": {
          "base_uri": "https://localhost:8080/"
        },
        "id": "zN1HflELK8oG",
        "outputId": "8ec85d50-b0f7-4006-c832-8cc4574fe5fc"
      },
      "outputs": [],
      "source": [
        "app = Flask(__name__)\n",
        "port = \"5000\"\n",
        "\n",
        "# Define Flask routes\n",
        "@app.route(\"/\")\n",
        "def index():\n",
        "    return \"Hello from gendocstring server.\"\n",
        "\n",
        "@app.route(\"/summary\", methods=[\"POST\"])\n",
        "def summary():\n",
        "    if request.method == \"POST\":\n",
        "        payload = request.get_json()\n",
        "        t0 = time.time()\n",
        "\n",
        "        # Generate docstring here\n",
        "\n",
        "        code = payload[\"code\"]\n",
        "        snippet = payload[\"snippet\"]\n",
        "        template = snippet.replace('\\\"\\\"\\\"\\n', '')\n",
        "\n",
        "        log(\"code:\")\n",
        "        log(code)\n",
        "        log(\"snippet:\")\n",
        "        log(snippet)\n",
        "\n",
        "        docstring = get_docstring_from_template(code, template)\n",
        "        if docstring[0:1] == '\\n':\n",
        "            docstring = docstring[1:]\n",
        "        docstring = docstring.rstrip()+'\\n'\n",
        "\n",
        "        log(docstring)\n",
        "\n",
        "        t1 = time.time()\n",
        "        result = {\n",
        "            'message' : [docstring],\n",
        "            'time' : (t1 - t0),\n",
        "            'device' : \"computer\",\n",
        "            'length' : len(docstring)\n",
        "        }\n",
        "\n",
        "        return jsonify(**result)\n",
        "\n",
        "# Start the Flask server in a new thread\n",
        "threading.Thread(target=app.run, kwargs={\"use_reloader\": False}).start()"
      ]
    },
    {
      "cell_type": "code",
      "execution_count": null,
      "metadata": {},
      "outputs": [],
      "source": []
    }
  ],
  "metadata": {
    "accelerator": "GPU",
    "colab": {
      "gpuType": "T4",
      "provenance": [],
      "toc_visible": true
    },
    "kernelspec": {
      "display_name": "Python 3",
      "name": "python3"
    },
    "language_info": {
      "codemirror_mode": {
        "name": "ipython",
        "version": 3
      },
      "file_extension": ".py",
      "mimetype": "text/x-python",
      "name": "python",
      "nbconvert_exporter": "python",
      "pygments_lexer": "ipython3",
      "version": "3.9.18"
    },
    "widgets": {
      "application/vnd.jupyter.widget-state+json": {
        "2679f0a927dc420eb1509a62077a5264": {
          "model_module": "@jupyter-widgets/controls",
          "model_module_version": "1.5.0",
          "model_name": "ProgressStyleModel",
          "state": {
            "_model_module": "@jupyter-widgets/controls",
            "_model_module_version": "1.5.0",
            "_model_name": "ProgressStyleModel",
            "_view_count": null,
            "_view_module": "@jupyter-widgets/base",
            "_view_module_version": "1.2.0",
            "_view_name": "StyleView",
            "bar_color": null,
            "description_width": ""
          }
        },
        "28a6c9d7010348c5b8b574b4dacee3f0": {
          "model_module": "@jupyter-widgets/base",
          "model_module_version": "1.2.0",
          "model_name": "LayoutModel",
          "state": {
            "_model_module": "@jupyter-widgets/base",
            "_model_module_version": "1.2.0",
            "_model_name": "LayoutModel",
            "_view_count": null,
            "_view_module": "@jupyter-widgets/base",
            "_view_module_version": "1.2.0",
            "_view_name": "LayoutView",
            "align_content": null,
            "align_items": null,
            "align_self": null,
            "border": null,
            "bottom": null,
            "display": null,
            "flex": null,
            "flex_flow": null,
            "grid_area": null,
            "grid_auto_columns": null,
            "grid_auto_flow": null,
            "grid_auto_rows": null,
            "grid_column": null,
            "grid_gap": null,
            "grid_row": null,
            "grid_template_areas": null,
            "grid_template_columns": null,
            "grid_template_rows": null,
            "height": null,
            "justify_content": null,
            "justify_items": null,
            "left": null,
            "margin": null,
            "max_height": null,
            "max_width": null,
            "min_height": null,
            "min_width": null,
            "object_fit": null,
            "object_position": null,
            "order": null,
            "overflow": null,
            "overflow_x": null,
            "overflow_y": null,
            "padding": null,
            "right": null,
            "top": null,
            "visibility": null,
            "width": null
          }
        },
        "29e225c6c4c742c799421da82d4f670e": {
          "model_module": "@jupyter-widgets/controls",
          "model_module_version": "1.5.0",
          "model_name": "DescriptionStyleModel",
          "state": {
            "_model_module": "@jupyter-widgets/controls",
            "_model_module_version": "1.5.0",
            "_model_name": "DescriptionStyleModel",
            "_view_count": null,
            "_view_module": "@jupyter-widgets/base",
            "_view_module_version": "1.2.0",
            "_view_name": "StyleView",
            "description_width": ""
          }
        },
        "431e74e1d4b84efd97f1aefa090dfe5b": {
          "model_module": "@jupyter-widgets/base",
          "model_module_version": "1.2.0",
          "model_name": "LayoutModel",
          "state": {
            "_model_module": "@jupyter-widgets/base",
            "_model_module_version": "1.2.0",
            "_model_name": "LayoutModel",
            "_view_count": null,
            "_view_module": "@jupyter-widgets/base",
            "_view_module_version": "1.2.0",
            "_view_name": "LayoutView",
            "align_content": null,
            "align_items": null,
            "align_self": null,
            "border": null,
            "bottom": null,
            "display": null,
            "flex": null,
            "flex_flow": null,
            "grid_area": null,
            "grid_auto_columns": null,
            "grid_auto_flow": null,
            "grid_auto_rows": null,
            "grid_column": null,
            "grid_gap": null,
            "grid_row": null,
            "grid_template_areas": null,
            "grid_template_columns": null,
            "grid_template_rows": null,
            "height": null,
            "justify_content": null,
            "justify_items": null,
            "left": null,
            "margin": null,
            "max_height": null,
            "max_width": null,
            "min_height": null,
            "min_width": null,
            "object_fit": null,
            "object_position": null,
            "order": null,
            "overflow": null,
            "overflow_x": null,
            "overflow_y": null,
            "padding": null,
            "right": null,
            "top": null,
            "visibility": null,
            "width": null
          }
        },
        "5900405f4b494d71a69948b879263a0d": {
          "model_module": "@jupyter-widgets/controls",
          "model_module_version": "1.5.0",
          "model_name": "FloatProgressModel",
          "state": {
            "_dom_classes": [],
            "_model_module": "@jupyter-widgets/controls",
            "_model_module_version": "1.5.0",
            "_model_name": "FloatProgressModel",
            "_view_count": null,
            "_view_module": "@jupyter-widgets/controls",
            "_view_module_version": "1.5.0",
            "_view_name": "ProgressView",
            "bar_style": "success",
            "description": "",
            "description_tooltip": null,
            "layout": "IPY_MODEL_b764c993b154464380f6f81584e37cd2",
            "max": 5942064800,
            "min": 0,
            "orientation": "horizontal",
            "style": "IPY_MODEL_2679f0a927dc420eb1509a62077a5264",
            "value": 5942064800
          }
        },
        "a3058475b61044f990ad7930c18a39d7": {
          "model_module": "@jupyter-widgets/controls",
          "model_module_version": "1.5.0",
          "model_name": "HTMLModel",
          "state": {
            "_dom_classes": [],
            "_model_module": "@jupyter-widgets/controls",
            "_model_module_version": "1.5.0",
            "_model_name": "HTMLModel",
            "_view_count": null,
            "_view_module": "@jupyter-widgets/controls",
            "_view_module_version": "1.5.0",
            "_view_name": "HTMLView",
            "description": "",
            "description_tooltip": null,
            "layout": "IPY_MODEL_431e74e1d4b84efd97f1aefa090dfe5b",
            "placeholder": "​",
            "style": "IPY_MODEL_29e225c6c4c742c799421da82d4f670e",
            "value": " 5.94G/5.94G [00:46&lt;00:00, 20.9MB/s]"
          }
        },
        "a5c883b3a4c542dd892fe5892fa460af": {
          "model_module": "@jupyter-widgets/base",
          "model_module_version": "1.2.0",
          "model_name": "LayoutModel",
          "state": {
            "_model_module": "@jupyter-widgets/base",
            "_model_module_version": "1.2.0",
            "_model_name": "LayoutModel",
            "_view_count": null,
            "_view_module": "@jupyter-widgets/base",
            "_view_module_version": "1.2.0",
            "_view_name": "LayoutView",
            "align_content": null,
            "align_items": null,
            "align_self": null,
            "border": null,
            "bottom": null,
            "display": null,
            "flex": null,
            "flex_flow": null,
            "grid_area": null,
            "grid_auto_columns": null,
            "grid_auto_flow": null,
            "grid_auto_rows": null,
            "grid_column": null,
            "grid_gap": null,
            "grid_row": null,
            "grid_template_areas": null,
            "grid_template_columns": null,
            "grid_template_rows": null,
            "height": null,
            "justify_content": null,
            "justify_items": null,
            "left": null,
            "margin": null,
            "max_height": null,
            "max_width": null,
            "min_height": null,
            "min_width": null,
            "object_fit": null,
            "object_position": null,
            "order": null,
            "overflow": null,
            "overflow_x": null,
            "overflow_y": null,
            "padding": null,
            "right": null,
            "top": null,
            "visibility": null,
            "width": null
          }
        },
        "a9b254a5b5bd4a49acb622387d7c303e": {
          "model_module": "@jupyter-widgets/controls",
          "model_module_version": "1.5.0",
          "model_name": "HTMLModel",
          "state": {
            "_dom_classes": [],
            "_model_module": "@jupyter-widgets/controls",
            "_model_module_version": "1.5.0",
            "_model_name": "HTMLModel",
            "_view_count": null,
            "_view_module": "@jupyter-widgets/controls",
            "_view_module_version": "1.5.0",
            "_view_name": "HTMLView",
            "description": "",
            "description_tooltip": null,
            "layout": "IPY_MODEL_a5c883b3a4c542dd892fe5892fa460af",
            "placeholder": "​",
            "style": "IPY_MODEL_da70b9075bcb44418e91df32acb46219",
            "value": "mistral-7b-instruct-v0.1.Q6_K.gguf: 100%"
          }
        },
        "b764c993b154464380f6f81584e37cd2": {
          "model_module": "@jupyter-widgets/base",
          "model_module_version": "1.2.0",
          "model_name": "LayoutModel",
          "state": {
            "_model_module": "@jupyter-widgets/base",
            "_model_module_version": "1.2.0",
            "_model_name": "LayoutModel",
            "_view_count": null,
            "_view_module": "@jupyter-widgets/base",
            "_view_module_version": "1.2.0",
            "_view_name": "LayoutView",
            "align_content": null,
            "align_items": null,
            "align_self": null,
            "border": null,
            "bottom": null,
            "display": null,
            "flex": null,
            "flex_flow": null,
            "grid_area": null,
            "grid_auto_columns": null,
            "grid_auto_flow": null,
            "grid_auto_rows": null,
            "grid_column": null,
            "grid_gap": null,
            "grid_row": null,
            "grid_template_areas": null,
            "grid_template_columns": null,
            "grid_template_rows": null,
            "height": null,
            "justify_content": null,
            "justify_items": null,
            "left": null,
            "margin": null,
            "max_height": null,
            "max_width": null,
            "min_height": null,
            "min_width": null,
            "object_fit": null,
            "object_position": null,
            "order": null,
            "overflow": null,
            "overflow_x": null,
            "overflow_y": null,
            "padding": null,
            "right": null,
            "top": null,
            "visibility": null,
            "width": null
          }
        },
        "d1eded299ea34e2086b8a9e8dd12962b": {
          "model_module": "@jupyter-widgets/controls",
          "model_module_version": "1.5.0",
          "model_name": "HBoxModel",
          "state": {
            "_dom_classes": [],
            "_model_module": "@jupyter-widgets/controls",
            "_model_module_version": "1.5.0",
            "_model_name": "HBoxModel",
            "_view_count": null,
            "_view_module": "@jupyter-widgets/controls",
            "_view_module_version": "1.5.0",
            "_view_name": "HBoxView",
            "box_style": "",
            "children": [
              "IPY_MODEL_a9b254a5b5bd4a49acb622387d7c303e",
              "IPY_MODEL_5900405f4b494d71a69948b879263a0d",
              "IPY_MODEL_a3058475b61044f990ad7930c18a39d7"
            ],
            "layout": "IPY_MODEL_28a6c9d7010348c5b8b574b4dacee3f0"
          }
        },
        "da70b9075bcb44418e91df32acb46219": {
          "model_module": "@jupyter-widgets/controls",
          "model_module_version": "1.5.0",
          "model_name": "DescriptionStyleModel",
          "state": {
            "_model_module": "@jupyter-widgets/controls",
            "_model_module_version": "1.5.0",
            "_model_name": "DescriptionStyleModel",
            "_view_count": null,
            "_view_module": "@jupyter-widgets/base",
            "_view_module_version": "1.2.0",
            "_view_name": "StyleView",
            "description_width": ""
          }
        }
      }
    }
  },
  "nbformat": 4,
  "nbformat_minor": 0
}
